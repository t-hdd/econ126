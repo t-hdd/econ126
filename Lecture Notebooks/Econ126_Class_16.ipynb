{
 "cells": [
  {
   "cell_type": "code",
   "execution_count": 1,
   "metadata": {},
   "outputs": [],
   "source": [
    "import numpy as np\n",
    "import pandas as pd\n",
    "import linearsolve as ls\n",
    "import matplotlib.pyplot as plt\n",
    "plt.style.use('classic')\n",
    "%matplotlib inline\n",
    "\n",
    "pd.plotting.register_matplotlib_converters()"
   ]
  },
  {
   "cell_type": "markdown",
   "metadata": {},
   "source": [
    "# Class 16: Introduction to New-Keynesian Business Cycle Modeling\n",
    "\n",
    "In this notebook, we will briefly explore US macroeconomic data suggesting that, contrary to the assumptions of most RBC models, there is in fact a relationship between real and nominal quantities over the business cycle. Then we will use `linearsolve` to compute impulse responses of output, inflation, and the nominal interest rate to a monetary policy shock in the New-Keynesian model.\n",
    "\n",
    "## Data\n",
    "\n",
    "The file `business_cycle_data_actual_trend_cycle.csv`, available at https://github.com/letsgoexploring/econ126/raw/master/Data/Csv/business_cycle_data_actual_trend_cycle.csv, contains actual and trend data for real GDP per capita, real consumption per capita, real investment per capita, real physical capital per capita, TFP, hours per capita, the rea money supply (M2), (nominal) interest rate on 3-month T-bills, the PCE inflation rate, and the unemployment rate; each at quarterly frequency. The GDP, consumption, investment, capital, and money supply data are in terms of 2012 dollars. Hours is measured as an index with the value in October 2012 set to 100."
   ]
  },
  {
   "cell_type": "code",
   "execution_count": 2,
   "metadata": {},
   "outputs": [
    {
     "data": {
      "text/html": [
       "<div>\n",
       "<style scoped>\n",
       "    .dataframe tbody tr th:only-of-type {\n",
       "        vertical-align: middle;\n",
       "    }\n",
       "\n",
       "    .dataframe tbody tr th {\n",
       "        vertical-align: top;\n",
       "    }\n",
       "\n",
       "    .dataframe thead th {\n",
       "        text-align: right;\n",
       "    }\n",
       "</style>\n",
       "<table border=\"1\" class=\"dataframe\">\n",
       "  <thead>\n",
       "    <tr style=\"text-align: right;\">\n",
       "      <th></th>\n",
       "      <th>gdp</th>\n",
       "      <th>gdp_trend</th>\n",
       "      <th>gdp_cycle</th>\n",
       "      <th>consumption</th>\n",
       "      <th>consumption_trend</th>\n",
       "      <th>consumption_cycle</th>\n",
       "      <th>investment</th>\n",
       "      <th>investment_trend</th>\n",
       "      <th>investment_cycle</th>\n",
       "      <th>hours</th>\n",
       "      <th>...</th>\n",
       "      <th>real_m2_cycle</th>\n",
       "      <th>t_bill_3mo</th>\n",
       "      <th>t_bill_3mo_trend</th>\n",
       "      <th>t_bill_3mo_cycle</th>\n",
       "      <th>pce_inflation</th>\n",
       "      <th>pce_inflation_trend</th>\n",
       "      <th>pce_inflation_cycle</th>\n",
       "      <th>unemployment</th>\n",
       "      <th>unemployment_trend</th>\n",
       "      <th>unemployment_cycle</th>\n",
       "    </tr>\n",
       "  </thead>\n",
       "  <tbody>\n",
       "    <tr>\n",
       "      <th>2018-07-01</th>\n",
       "      <td>72.589059</td>\n",
       "      <td>72.376813</td>\n",
       "      <td>0.002928</td>\n",
       "      <td>49.377099</td>\n",
       "      <td>49.228728</td>\n",
       "      <td>0.003009</td>\n",
       "      <td>12.887706</td>\n",
       "      <td>12.752714</td>\n",
       "      <td>0.010530</td>\n",
       "      <td>105.399877</td>\n",
       "      <td>...</td>\n",
       "      <td>-0.010409</td>\n",
       "      <td>0.020400</td>\n",
       "      <td>0.016665</td>\n",
       "      <td>0.003735</td>\n",
       "      <td>0.057662</td>\n",
       "      <td>0.045360</td>\n",
       "      <td>0.012303</td>\n",
       "      <td>0.037667</td>\n",
       "      <td>0.038054</td>\n",
       "      <td>-0.000388</td>\n",
       "    </tr>\n",
       "    <tr>\n",
       "      <th>2018-10-01</th>\n",
       "      <td>72.606447</td>\n",
       "      <td>72.672948</td>\n",
       "      <td>-0.000915</td>\n",
       "      <td>49.377294</td>\n",
       "      <td>49.441990</td>\n",
       "      <td>-0.001309</td>\n",
       "      <td>12.942796</td>\n",
       "      <td>12.825832</td>\n",
       "      <td>0.009078</td>\n",
       "      <td>105.435736</td>\n",
       "      <td>...</td>\n",
       "      <td>-0.015843</td>\n",
       "      <td>0.023167</td>\n",
       "      <td>0.018115</td>\n",
       "      <td>0.005051</td>\n",
       "      <td>0.046050</td>\n",
       "      <td>0.045643</td>\n",
       "      <td>0.000408</td>\n",
       "      <td>0.038000</td>\n",
       "      <td>0.036738</td>\n",
       "      <td>0.001262</td>\n",
       "    </tr>\n",
       "    <tr>\n",
       "      <th>2019-01-01</th>\n",
       "      <td>73.251081</td>\n",
       "      <td>72.970978</td>\n",
       "      <td>0.003831</td>\n",
       "      <td>49.529684</td>\n",
       "      <td>49.656456</td>\n",
       "      <td>-0.002556</td>\n",
       "      <td>13.135114</td>\n",
       "      <td>12.899000</td>\n",
       "      <td>0.018139</td>\n",
       "      <td>105.677466</td>\n",
       "      <td>...</td>\n",
       "      <td>-0.010384</td>\n",
       "      <td>0.023867</td>\n",
       "      <td>0.019566</td>\n",
       "      <td>0.004300</td>\n",
       "      <td>0.039181</td>\n",
       "      <td>0.045903</td>\n",
       "      <td>-0.006722</td>\n",
       "      <td>0.038667</td>\n",
       "      <td>0.035432</td>\n",
       "      <td>0.003234</td>\n",
       "    </tr>\n",
       "    <tr>\n",
       "      <th>2019-04-01</th>\n",
       "      <td>73.482233</td>\n",
       "      <td>73.270527</td>\n",
       "      <td>0.002885</td>\n",
       "      <td>49.967211</td>\n",
       "      <td>49.872074</td>\n",
       "      <td>0.001906</td>\n",
       "      <td>12.910780</td>\n",
       "      <td>12.972253</td>\n",
       "      <td>-0.004750</td>\n",
       "      <td>105.340443</td>\n",
       "      <td>...</td>\n",
       "      <td>-0.012074</td>\n",
       "      <td>0.023000</td>\n",
       "      <td>0.021015</td>\n",
       "      <td>0.001985</td>\n",
       "      <td>0.040987</td>\n",
       "      <td>0.046152</td>\n",
       "      <td>-0.005165</td>\n",
       "      <td>0.036333</td>\n",
       "      <td>0.034133</td>\n",
       "      <td>0.002201</td>\n",
       "    </tr>\n",
       "    <tr>\n",
       "      <th>2019-07-01</th>\n",
       "      <td>73.703609</td>\n",
       "      <td>73.571388</td>\n",
       "      <td>0.001796</td>\n",
       "      <td>50.218595</td>\n",
       "      <td>50.088709</td>\n",
       "      <td>0.002590</td>\n",
       "      <td>12.811444</td>\n",
       "      <td>13.045774</td>\n",
       "      <td>-0.018125</td>\n",
       "      <td>105.768114</td>\n",
       "      <td>...</td>\n",
       "      <td>-0.004615</td>\n",
       "      <td>0.019800</td>\n",
       "      <td>0.022462</td>\n",
       "      <td>-0.002662</td>\n",
       "      <td>0.039933</td>\n",
       "      <td>0.046396</td>\n",
       "      <td>-0.006463</td>\n",
       "      <td>0.036333</td>\n",
       "      <td>0.032835</td>\n",
       "      <td>0.003498</td>\n",
       "    </tr>\n",
       "  </tbody>\n",
       "</table>\n",
       "<p>5 rows × 30 columns</p>\n",
       "</div>"
      ],
      "text/plain": [
       "                  gdp  gdp_trend  gdp_cycle  consumption  consumption_trend  \\\n",
       "2018-07-01  72.589059  72.376813   0.002928    49.377099          49.228728   \n",
       "2018-10-01  72.606447  72.672948  -0.000915    49.377294          49.441990   \n",
       "2019-01-01  73.251081  72.970978   0.003831    49.529684          49.656456   \n",
       "2019-04-01  73.482233  73.270527   0.002885    49.967211          49.872074   \n",
       "2019-07-01  73.703609  73.571388   0.001796    50.218595          50.088709   \n",
       "\n",
       "            consumption_cycle  investment  investment_trend  investment_cycle  \\\n",
       "2018-07-01           0.003009   12.887706         12.752714          0.010530   \n",
       "2018-10-01          -0.001309   12.942796         12.825832          0.009078   \n",
       "2019-01-01          -0.002556   13.135114         12.899000          0.018139   \n",
       "2019-04-01           0.001906   12.910780         12.972253         -0.004750   \n",
       "2019-07-01           0.002590   12.811444         13.045774         -0.018125   \n",
       "\n",
       "                 hours  ...  real_m2_cycle  t_bill_3mo  t_bill_3mo_trend  \\\n",
       "2018-07-01  105.399877  ...      -0.010409    0.020400          0.016665   \n",
       "2018-10-01  105.435736  ...      -0.015843    0.023167          0.018115   \n",
       "2019-01-01  105.677466  ...      -0.010384    0.023867          0.019566   \n",
       "2019-04-01  105.340443  ...      -0.012074    0.023000          0.021015   \n",
       "2019-07-01  105.768114  ...      -0.004615    0.019800          0.022462   \n",
       "\n",
       "            t_bill_3mo_cycle  pce_inflation  pce_inflation_trend  \\\n",
       "2018-07-01          0.003735       0.057662             0.045360   \n",
       "2018-10-01          0.005051       0.046050             0.045643   \n",
       "2019-01-01          0.004300       0.039181             0.045903   \n",
       "2019-04-01          0.001985       0.040987             0.046152   \n",
       "2019-07-01         -0.002662       0.039933             0.046396   \n",
       "\n",
       "            pce_inflation_cycle  unemployment  unemployment_trend  \\\n",
       "2018-07-01             0.012303      0.037667            0.038054   \n",
       "2018-10-01             0.000408      0.038000            0.036738   \n",
       "2019-01-01            -0.006722      0.038667            0.035432   \n",
       "2019-04-01            -0.005165      0.036333            0.034133   \n",
       "2019-07-01            -0.006463      0.036333            0.032835   \n",
       "\n",
       "            unemployment_cycle  \n",
       "2018-07-01           -0.000388  \n",
       "2018-10-01            0.001262  \n",
       "2019-01-01            0.003234  \n",
       "2019-04-01            0.002201  \n",
       "2019-07-01            0.003498  \n",
       "\n",
       "[5 rows x 30 columns]"
      ]
     },
     "execution_count": 2,
     "metadata": {},
     "output_type": "execute_result"
    }
   ],
   "source": [
    "# Read business_cycle_data_actual_trend.csv into a Pandas DataFrame with the first column set as the index and parse_dates=True\n",
    "data = pd.read_csv('https://github.com/letsgoexploring/econ126/raw/master/Data/Csv/business_cycle_data_actual_trend_cycle.csv',index_col=0,parse_dates=True)\n",
    "\n",
    "# Print the last five rows of the data\n",
    "data.tail()"
   ]
  },
  {
   "cell_type": "markdown",
   "metadata": {},
   "source": [
    "### Exercise: GDP and Inflation\n",
    "\n",
    "Construct a plot of the cyclical components of GDP and inflation. "
   ]
  },
  {
   "cell_type": "code",
   "execution_count": 3,
   "metadata": {
    "scrolled": false
   },
   "outputs": [
    {
     "data": {
      "text/plain": [
       "<matplotlib.legend.Legend at 0x10214bcb10>"
      ]
     },
     "execution_count": 3,
     "metadata": {},
     "output_type": "execute_result"
    },
    {
     "data": {
      "image/png": "[encoded data removed]",
      "text/plain": [
       "<Figure size 432x288 with 1 Axes>"
      ]
     },
     "metadata": {
      "needs_background": "light"
     },
     "output_type": "display_data"
    }
   ],
   "source": [
    "# Construct plot\n",
    "plt.plot(data['pce_inflation_cycle']*100,alpha=0.75,lw=3,label='Inflation')\n",
    "plt.plot(data['gdp_cycle']*100,c='r',alpha=0.5,label='GDP')\n",
    "plt.grid()\n",
    "plt.ylabel='Percent'\n",
    "plt.title('GDP and Inflation')\n",
    "\n",
    "# Place legend to right of figure. PROVIDED\n",
    "plt.legend(loc='center left', bbox_to_anchor=(1, 0.5))"
   ]
  },
  {
   "cell_type": "markdown",
   "metadata": {},
   "source": [
    "### Exercise: GDP and the 3-Month T-Bill Rate\n",
    "\n",
    "Construct a plot of the cyclical components of GDP and the 3-month T-bill rate. "
   ]
  },
  {
   "cell_type": "code",
   "execution_count": 4,
   "metadata": {},
   "outputs": [
    {
     "data": {
      "text/plain": [
       "<matplotlib.legend.Legend at 0x1021507350>"
      ]
     },
     "execution_count": 4,
     "metadata": {},
     "output_type": "execute_result"
    },
    {
     "data": {
      "image/png": "[encoded data removed]",
      "text/plain": [
       "<Figure size 432x288 with 1 Axes>"
      ]
     },
     "metadata": {
      "needs_background": "light"
     },
     "output_type": "display_data"
    }
   ],
   "source": [
    "# Construct plot\n",
    "plt.plot(data['t_bill_3mo_cycle']*100,alpha=0.75,lw=3,label='Inflation')\n",
    "plt.plot(data['gdp_cycle']*100,c='r',alpha=0.5,label='GDP')\n",
    "plt.grid()\n",
    "plt.ylabel='Percent'\n",
    "plt.title('GDP and 3-Month T-Bill Rate')\n",
    "\n",
    "# Place legend to right of figure. PROVIDED\n",
    "plt.legend(loc='center left', bbox_to_anchor=(1, 0.5))"
   ]
  },
  {
   "cell_type": "markdown",
   "metadata": {},
   "source": [
    "### Correlations Between GDP, Inflation, and 3-Month T-Bill Rate\n",
    "\n",
    "Compute the coefficients of corrrelation between GDP, inflation, and the 3-month T-bill rate."
   ]
  },
  {
   "cell_type": "code",
   "execution_count": 5,
   "metadata": {},
   "outputs": [
    {
     "data": {
      "text/html": [
       "<div>\n",
       "<style scoped>\n",
       "    .dataframe tbody tr th:only-of-type {\n",
       "        vertical-align: middle;\n",
       "    }\n",
       "\n",
       "    .dataframe tbody tr th {\n",
       "        vertical-align: top;\n",
       "    }\n",
       "\n",
       "    .dataframe thead th {\n",
       "        text-align: right;\n",
       "    }\n",
       "</style>\n",
       "<table border=\"1\" class=\"dataframe\">\n",
       "  <thead>\n",
       "    <tr style=\"text-align: right;\">\n",
       "      <th></th>\n",
       "      <th>gdp_cycle</th>\n",
       "      <th>pce_inflation_cycle</th>\n",
       "      <th>t_bill_3mo_cycle</th>\n",
       "    </tr>\n",
       "  </thead>\n",
       "  <tbody>\n",
       "    <tr>\n",
       "      <th>gdp_cycle</th>\n",
       "      <td>1.000000</td>\n",
       "      <td>0.553497</td>\n",
       "      <td>0.407666</td>\n",
       "    </tr>\n",
       "    <tr>\n",
       "      <th>pce_inflation_cycle</th>\n",
       "      <td>0.553497</td>\n",
       "      <td>1.000000</td>\n",
       "      <td>0.241685</td>\n",
       "    </tr>\n",
       "    <tr>\n",
       "      <th>t_bill_3mo_cycle</th>\n",
       "      <td>0.407666</td>\n",
       "      <td>0.241685</td>\n",
       "      <td>1.000000</td>\n",
       "    </tr>\n",
       "  </tbody>\n",
       "</table>\n",
       "</div>"
      ],
      "text/plain": [
       "                     gdp_cycle  pce_inflation_cycle  t_bill_3mo_cycle\n",
       "gdp_cycle             1.000000             0.553497          0.407666\n",
       "pce_inflation_cycle   0.553497             1.000000          0.241685\n",
       "t_bill_3mo_cycle      0.407666             0.241685          1.000000"
      ]
     },
     "execution_count": 5,
     "metadata": {},
     "output_type": "execute_result"
    }
   ],
   "source": [
    "data[['gdp_cycle','pce_inflation_cycle','t_bill_3mo_cycle']].corr()"
   ]
  },
  {
   "cell_type": "markdown",
   "metadata": {},
   "source": [
    "Strong (but not perfect!) correlations between GDP and inflation and GDP and the T-bill rate suggest link between nominal and real quantities over the business cycle that should be exaplined by business cycle theory."
   ]
  },
  {
   "cell_type": "markdown",
   "metadata": {},
   "source": [
    "## The New-Keynesian Model\n",
    "\n",
    "The most basic version of the New-Keynesian Model can be expressed as:\n",
    "\n",
    "\\begin{align}\n",
    "y_t & = E_t y_{t+1}  - \\left( r_{t} - \\bar{r}\\right) + g_t\\\\\n",
    "i_{t} & = r_{t} + E_t \\pi_{t+1}\\\\\n",
    "i_{t} & = \\bar{r} + \\pi^T + \\phi_{\\pi}\\big(\\pi_t - \\pi^T\\big) + \\phi_{y}\\big(y_t - \\bar{y}\\big) + v_t\\\\\n",
    "\\pi_t -\\pi^T & = \\beta \\left( E_t\\pi_{t+1} - \\pi^T\\right)  + \\kappa (y_t -\\bar{y})+ u_t,\n",
    "\\end{align}\n",
    "\n",
    "where: $y_t$ is (log) output, $r_t$ is the real interest rate, $i_t$ is the nominal interest rate, $\\pi_t$ is the rate of inflation between periods $t-1$ and $t$, $\\bar{r}$ is the long-run average real interest rate or the *natural rate of interest*, $\\beta$ is the household's subjective discount factor, and $\\pi^T$ is the central bank's inflation target. The coeffieints $\\phi_{\\pi}$ and $\\phi_{y}$ reflect the degree of intensity to which the central bank *endogenously* adjusts the nominal interest rate in response to movements in inflation and output.\n",
    "\n",
    "The variables $g_t$, $u_t$, and $v_t$ represent exogenous shocks to aggregate demand, inflation, and monetary policy. They follow AR(1) processes:\n",
    "\n",
    "\\begin{align}\n",
    "g_{t+1} & = \\rho_g g_{t} + \\epsilon^g_{t+1}\\\\\n",
    "u_{t+1} & = \\rho_u u_{t} + \\epsilon^u_{t+1}\\\\\n",
    "v_{t+1} & = \\rho_v v_{t} + \\epsilon^v_{t+1}.\n",
    "\\end{align}\n",
    "\n",
    "The goal is to compute impulse responses in the model to a one percent exogenous increase in the nominal interest rate. We will use the following parameterization:\n",
    "\n",
    "| $\\bar{y}$ | $\\beta$ | $\\bar{r}$    | $\\kappa$ | $\\pi^T$ | $\\phi_{\\pi}$ | $\\phi_y$ | $\\rho_g$ | $\\rho_u$ | $\\rho_v$ | \n",
    "|-----------|---------|--------------|----------|---------|--------------|----------|----------|----------|---------|\n",
    "| 0         | 0.995    | $-\\log\\beta$ | 0.1      | 0.02/4    | 1.5          | 0.5/4    | 0.5      | 0.5      | 0.5     |"
   ]
  },
  {
   "cell_type": "code",
   "execution_count": 6,
   "metadata": {},
   "outputs": [
    {
     "name": "stdout",
     "output_type": "stream",
     "text": [
      "y_bar     0.000000\n",
      "beta      0.995000\n",
      "r_bar     0.005013\n",
      "kappa     0.100000\n",
      "pi_T      0.005000\n",
      "phi_pi    1.500000\n",
      "phi_y     0.125000\n",
      "rho_g     0.500000\n",
      "rho_u     0.500000\n",
      "rho_v     0.500000\n",
      "dtype: float64\n"
     ]
    }
   ],
   "source": [
    "# Create a variable called 'parameters' that stores the model parameter values in a Pandas Series\n",
    "parameters = pd.Series()\n",
    "parameters['y_bar'] = 0\n",
    "parameters['beta'] = 0.995\n",
    "parameters['r_bar'] = -np.log(parameters.beta)\n",
    "parameters['kappa'] = 0.1\n",
    "parameters['pi_T'] = 0.02/4\n",
    "parameters['phi_pi'] = 1.5\n",
    "parameters['phi_y'] = 0.5/4\n",
    "parameters['rho_g'] = 0.5\n",
    "parameters['rho_u'] = 0.5\n",
    "parameters['rho_v'] = 0.5\n",
    "\n",
    "# Print the model's parameters\n",
    "print(parameters)"
   ]
  },
  {
   "cell_type": "code",
   "execution_count": 7,
   "metadata": {},
   "outputs": [],
   "source": [
    "# Create variable called 'var_names' that stores the variable names in a list with state variables ordered first\n",
    "var_names = ['g','u','v','y','pi','i','r']\n",
    "\n",
    "# Create variable called 'shock_names' that stores an exogenous shock name for each state variable.\n",
    "shock_names = ['e_g','e_u','e_v']\n",
    "\n",
    "# Define a function that evaluates the equilibrium conditions of the model solved for zero. PROVIDED\n",
    "def equilibrium_equations(variables_forward,variables_current,parameters):\n",
    "    \n",
    "    # Parameters. PROVIDED\n",
    "    p = parameters\n",
    "    \n",
    "    # Current variables. PROVIDED\n",
    "    cur = variables_current\n",
    "    \n",
    "    # Forward variables. PROVIDED\n",
    "    fwd = variables_forward\n",
    "\n",
    "    # IS equation\n",
    "    is_equation = fwd.y - (cur.r -p.r_bar) + cur.g - cur.y\n",
    "    \n",
    "    # Fisher_equation\n",
    "    fisher_equation = cur.r + fwd.pi - cur.i\n",
    "    \n",
    "    # Monetary policy\n",
    "    monetary_policy = p.r_bar + p.pi_T + p.phi_pi*(cur.pi - p.pi_T) + p.phi_y*cur.y + cur.v - cur.i\n",
    "    \n",
    "    # Phillips curve\n",
    "    phillips_curve = p.beta*(fwd.pi- p.pi_T) + p.kappa*cur.y + cur.u - (cur.pi-p.pi_T)\n",
    "    \n",
    "    # Demand process\n",
    "    demand_process = p.rho_g*cur.g - fwd.g\n",
    "    \n",
    "    # Monetary policy process\n",
    "    monetary_policy_process = p.rho_v*cur.v - fwd.v\n",
    "    \n",
    "    # Inflation process\n",
    "    inflation_process = p.rho_u*cur.u - fwd.u\n",
    "    \n",
    "    \n",
    "    # Stack equilibrium conditions into a numpy array\n",
    "    return np.array([\n",
    "            is_equation,\n",
    "            fisher_equation,\n",
    "            monetary_policy,\n",
    "            phillips_curve,\n",
    "            demand_process,\n",
    "            monetary_policy_process,\n",
    "            inflation_process\n",
    "        ])\n",
    "\n",
    "# Initialize the model into a variable named 'nk_model'\n",
    "nk_model = ls.model(equations = equilibrium_equations,\n",
    "                 n_states=3,\n",
    "                 var_names=var_names,\n",
    "                 shock_names=shock_names,\n",
    "                 parameters = parameters)"
   ]
  },
  {
   "cell_type": "code",
   "execution_count": 8,
   "metadata": {},
   "outputs": [
    {
     "name": "stdout",
     "output_type": "stream",
     "text": [
      "g     1.832559e-36\n",
      "u     3.518101e-35\n",
      "v     4.196417e-36\n",
      "y    -3.184980e-20\n",
      "pi    5.000000e-03\n",
      "i     1.001254e-02\n",
      "r     5.012542e-03\n",
      "dtype: float64\n"
     ]
    }
   ],
   "source": [
    "# Compute the steady state numerically using .compute_ss() method of nk_model\n",
    "guess = [0,0,0,0,0.01,0.01,0.01]\n",
    "nk_model.compute_ss(guess)\n",
    "\n",
    "# Print the computed steady state\n",
    "print(nk_model.ss)"
   ]
  },
  {
   "cell_type": "code",
   "execution_count": 9,
   "metadata": {},
   "outputs": [
    {
     "name": "stdout",
     "output_type": "stream",
     "text": [
      "Linear equilibrium conditions:\n",
      "\n",
      "       y[t+1|t] = -g[t]+y[t]+r[t]\n",
      "\n",
      "      pi[t+1|t] = i[t]-r[t]\n",
      "\n",
      "              0 = -v[t]-0.125·y[t]-1.5·pi[t]+i[t]\n",
      "\n",
      "0.995·pi[t+1|t] = -u[t]-0.1·y[t]+pi[t]\n",
      "\n",
      "        -g[t+1] = -0.5·g[t]\n",
      "\n",
      "        -v[t+1] = -0.5·v[t]\n",
      "\n",
      "        -u[t+1] = -0.5·u[t]\n"
     ]
    }
   ],
   "source": [
    "# Find the log-linear approximation around the non-stochastic steady state and solve using .approximate_and_solve() method of nk_model\n",
    "# set argumement 'log_linear' to False because the model is already log-linear.\n",
    "nk_model.approximate_and_solve(log_linear=False)\n",
    "\n",
    "print(nk_model.approximated())"
   ]
  },
  {
   "cell_type": "markdown",
   "metadata": {},
   "source": [
    "### Impulse Responses\n",
    "\n",
    "Compute a 21 period impulse response of the model's variables to a 0.01/4 unit shock to the exogenous component of  monetary policy ($v_t$) in period 5."
   ]
  },
  {
   "cell_type": "code",
   "execution_count": 10,
   "metadata": {},
   "outputs": [
    {
     "name": "stdout",
     "output_type": "stream",
     "text": [
      "      e_v             g    u         v         y        pi         i         r\n",
      "0  0.0000  0.000000e+00  0.0  0.000000  0.000000  0.000000  0.000000  0.000000\n",
      "1  0.0000  0.000000e+00  0.0  0.000000  0.000000  0.000000  0.000000  0.000000\n",
      "2  0.0000  0.000000e+00  0.0  0.000000  0.000000  0.000000  0.000000  0.000000\n",
      "3  0.0000  0.000000e+00  0.0  0.000000  0.000000  0.000000  0.000000  0.000000\n",
      "4  0.0000  0.000000e+00  0.0  0.000000  0.000000  0.000000  0.000000  0.000000\n",
      "5  0.0025  0.000000e+00  0.0  0.002500 -0.003034 -0.000604  0.001215  0.001517\n",
      "6  0.0000 -3.469447e-19  0.0  0.001250 -0.001517 -0.000302  0.000608  0.000758\n",
      "7  0.0000 -3.469447e-19  0.0  0.000625 -0.000758 -0.000151  0.000304  0.000379\n",
      "8  0.0000 -2.602085e-19  0.0  0.000313 -0.000379 -0.000075  0.000152  0.000190\n",
      "9  0.0000 -1.734723e-19  0.0  0.000156 -0.000190 -0.000038  0.000076  0.000095\n"
     ]
    }
   ],
   "source": [
    "# Compute impulse responses\n",
    "nk_model.impulse(T=21,t0=5,shocks=[0,0,0.01/4])\n",
    "\n",
    "# Print the first 10 rows of the computed impulse responses to the monetary policy shock\n",
    "print(nk_model.irs['e_v'].head(10))"
   ]
  },
  {
   "cell_type": "markdown",
   "metadata": {},
   "source": [
    "Plot the computed impulses responses of the nominal interest rate, the real interest rate, output, and inflation. Express inflation and interest rates in *annualized* (e.g., multiplied by 4) terms."
   ]
  },
  {
   "cell_type": "code",
   "execution_count": 11,
   "metadata": {
    "scrolled": false
   },
   "outputs": [
    {
     "data": {
      "text/plain": [
       "<matplotlib.axes._subplots.AxesSubplot at 0x102075d650>"
      ]
     },
     "execution_count": 11,
     "metadata": {},
     "output_type": "execute_result"
    },
    {
     "data": {
      "image/png": "[encoded data removed]",
      "text/plain": [
       "<Figure size 864x576 with 4 Axes>"
      ]
     },
     "metadata": {
      "needs_background": "light"
     },
     "output_type": "display_data"
    }
   ],
   "source": [
    "# Create figure. PROVIDED\n",
    "fig = plt.figure(figsize=(12,8))\n",
    "\n",
    "# Create upper-left axis. PROVIDED\n",
    "ax1 = fig.add_subplot(2,2,1)\n",
    "# Create upper-right axis. PROVIDED\n",
    "ax2 = fig.add_subplot(2,2,2)\n",
    "# Create lower-left axis. PROVIDED\n",
    "ax3 = fig.add_subplot(2,2,3)\n",
    "# Create lower-right axis. PROVIDED\n",
    "ax4 = fig.add_subplot(2,2,4)\n",
    "\n",
    "# Set axis 1 ylabel\n",
    "ax1.set_ylabel('% dev from steady state')\n",
    "# Set axis 2 ylabel\n",
    "ax2.set_ylabel('% dev from steady state')\n",
    "# Set axis 3 ylabel\n",
    "ax3.set_ylabel('% dev from steady state')\n",
    "# Set axis 4 ylabel\n",
    "ax4.set_ylabel('% dev from steady state')\n",
    "\n",
    "# Set axis 1 limits \n",
    "ax1.set_ylim([-0.2,0.8])\n",
    "# Set axis 2 limits\n",
    "ax2.set_ylim([-0.2,0.8])\n",
    "# Set axis 3 limits\n",
    "ax3.set_ylim([-0.4,0.1])\n",
    "# Set axis 4 limits\n",
    "ax4.set_ylim([-0.4,0.1])\n",
    "\n",
    "# Plot the nominal interest rate, real interest rate, output, and inflation\n",
    "(nk_model.irs['e_v']['i']*400).plot(ax=ax1,lw=4,alpha=0.75,title='Nominal Interest',grid=True)\n",
    "(nk_model.irs['e_v']['r']*400).plot(ax=ax2,lw=4,alpha=0.75,title='Real Interest',grid=True)\n",
    "(nk_model.irs['e_v']['y']*100).plot(ax=ax3,lw=4,alpha=0.75,title='Output',grid=True)\n",
    "(nk_model.irs['e_v']['pi']*400).plot(ax=ax4,lw=4,alpha=0.75,title='Inflation',grid=True)"
   ]
  }
 ],
 "metadata": {
  "anaconda-cloud": {},
  "kernelspec": {
   "display_name": "Python 3",
   "language": "python",
   "name": "python3"
  },
  "language_info": {
   "codemirror_mode": {
    "name": "ipython",
    "version": 3
   },
   "file_extension": ".py",
   "mimetype": "text/x-python",
   "name": "python",
   "nbconvert_exporter": "python",
   "pygments_lexer": "ipython3",
   "version": "3.7.4"
  }
 },
 "nbformat": 4,
 "nbformat_minor": 1
}
