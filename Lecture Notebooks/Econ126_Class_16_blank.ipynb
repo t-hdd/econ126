{
    "cells": [
        {
            "cell_type": "code",
            "execution_count": null,
            "metadata": {},
            "outputs": [],
            "source": [
                "import numpy as np\n",
                "import pandas as pd\n",
                "import linearsolve as ls\n",
                "import matplotlib.pyplot as plt\n",
                "plt.style.use('classic')\n",
                "%matplotlib inline\n",
                "\n",
                "pd.plotting.register_matplotlib_converters()"
            ]
        },
        {
            "cell_type": "markdown",
            "metadata": {},
            "source": [
                "# Class 16: Introduction to New-Keynesian Business Cycle Modeling\n",
                "\n",
                "In this notebook, we will briefly explore US macroeconomic data suggesting that, contrary to the assumptions of most RBC models, there is in fact a relationship between real and nominal quantities over the business cycle. Then we will use `linearsolve` to compute impulse responses of output, inflation, and the nominal interest rate to a monetary policy shock in the New-Keynesian model.\n",
                "\n",
                "## Data\n",
                "\n",
                "The file `business_cycle_data_actual_trend_cycle.csv`, available at https://github.com/letsgoexploring/econ126/raw/master/Data/Csv/business_cycle_data_actual_trend_cycle.csv, contains actual and trend data for real GDP per capita, real consumption per capita, real investment per capita, real physical capital per capita, TFP, hours per capita, the rea money supply (M2), (nominal) interest rate on 3-month T-bills, the PCE inflation rate, and the unemployment rate; each at quarterly frequency. The GDP, consumption, investment, capital, and money supply data are in terms of 2012 dollars. Hours is measured as an index with the value in October 2012 set to 100."
            ]
        },
        {
            "cell_type": "code",
            "execution_count": null,
            "metadata": {},
            "outputs": [],
            "source": [
                "# Read business_cycle_data_actual_trend.csv into a Pandas DataFrame with the first column set as the index and parse_dates=True\n",
                "\n",
                "\n",
                "# Print the last five rows of the data\n"
            ]
        },
        {
            "cell_type": "markdown",
            "metadata": {},
            "source": [
                "### Exercise: GDP and Inflation\n",
                "\n",
                "Construct a plot of the cyclical components of GDP and inflation. "
            ]
        },
        {
            "cell_type": "code",
            "execution_count": null,
            "metadata": {},
            "outputs": [],
            "source": [
                "# Construct plot\n",
                "\n",
                "\n",
                "",
                "",
                "",
                "",
                "# Place legend to right of figure. PROVIDED\n",
                "plt.legend(loc='center left', bbox_to_anchor=(1, 0.5))"
            ]
        },
        {
            "cell_type": "markdown",
            "metadata": {},
            "source": [
                "### Exercise: GDP and the 3-Month T-Bill Rate\n",
                "\n",
                "Construct a plot of the cyclical components of GDP and the 3-month T-bill rate. "
            ]
        },
        {
            "cell_type": "code",
            "execution_count": null,
            "metadata": {},
            "outputs": [],
            "source": [
                "# Construct plot\n",
                "\n",
                "\n",
                "",
                "",
                "",
                "",
                "# Place legend to right of figure. PROVIDED\n",
                "plt.legend(loc='center left', bbox_to_anchor=(1, 0.5))"
            ]
        },
        {
            "cell_type": "markdown",
            "metadata": {},
            "source": [
                "### Correlations Between GDP, Inflation, and 3-Month T-Bill Rate\n",
                "\n",
                "Compute the coefficients of corrrelation between GDP, inflation, and the 3-month T-bill rate."
            ]
        },
        {
            "cell_type": "code",
            "execution_count": null,
            "metadata": {},
            "outputs": [],
            "source": []
        },
        {
            "cell_type": "markdown",
            "metadata": {},
            "source": [
                "Strong (but not perfect!) correlations between GDP and inflation and GDP and the T-bill rate suggest link between nominal and real quantities over the business cycle that should be exaplined by business cycle theory."
            ]
        },
        {
            "cell_type": "markdown",
            "metadata": {},
            "source": [
                "## The New-Keynesian Model\n",
                "\n",
                "The most basic version of the New-Keynesian Model can be expressed as:\n",
                "\n",
                "\\begin{align}\n",
                "y_t & = E_t y_{t+1}  - \\left( r_{t} - \\bar{r}\\right) + g_t\\\\\n",
                "i_{t} & = r_{t} + E_t \\pi_{t+1}\\\\\n",
                "i_{t} & = \\bar{r} + \\pi^T + \\phi_{\\pi}\\big(\\pi_t - \\pi^T\\big) + \\phi_{y}\\big(y_t - \\bar{y}\\big) + v_t\\\\\n",
                "\\pi_t -\\pi^T & = \\beta \\left( E_t\\pi_{t+1} - \\pi^T\\right)  + \\kappa (y_t -\\bar{y})+ u_t,\n",
                "\\end{align}\n",
                "\n",
                "where: $y_t$ is (log) output, $r_t$ is the real interest rate, $i_t$ is the nominal interest rate, $\\pi_t$ is the rate of inflation between periods $t-1$ and $t$, $\\bar{r}$ is the long-run average real interest rate or the *natural rate of interest*, $\\beta$ is the household's subjective discount factor, and $\\pi^T$ is the central bank's inflation target. The coeffieints $\\phi_{\\pi}$ and $\\phi_{y}$ reflect the degree of intensity to which the central bank *endogenously* adjusts the nominal interest rate in response to movements in inflation and output.\n",
                "\n",
                "The variables $g_t$, $u_t$, and $v_t$ represent exogenous shocks to aggregate demand, inflation, and monetary policy. They follow AR(1) processes:\n",
                "\n",
                "\\begin{align}\n",
                "g_{t+1} & = \\rho_g g_{t} + \\epsilon^g_{t+1}\\\\\n",
                "u_{t+1} & = \\rho_u u_{t} + \\epsilon^u_{t+1}\\\\\n",
                "v_{t+1} & = \\rho_v v_{t} + \\epsilon^v_{t+1}.\n",
                "\\end{align}\n",
                "\n",
                "The goal is to compute impulse responses in the model to a one percent exogenous increase in the nominal interest rate. We will use the following parameterization:\n",
                "\n",
                "| $\\bar{y}$ | $\\beta$ | $\\bar{r}$    | $\\kappa$ | $\\pi^T$ | $\\phi_{\\pi}$ | $\\phi_y$ | $\\rho_g$ | $\\rho_u$ | $\\rho_v$ | \n",
                "|-----------|---------|--------------|----------|---------|--------------|----------|----------|----------|---------|\n",
                "| 0         | 0.995    | $-\\log\\beta$ | 0.1      | 0.02/4    | 1.5          | 0.5/4    | 0.5      | 0.5      | 0.5     |"
            ]
        },
        {
            "cell_type": "code",
            "execution_count": null,
            "metadata": {},
            "outputs": [],
            "source": [
                "# Create a variable called 'parameters' that stores the model parameter values in a Pandas Series\n",
                "\n",
                "\n",
                "",
                "",
                "",
                "",
                "",
                "",
                "",
                "",
                "",
                "",
                "# Print the model's parameters\n"
            ]
        },
        {
            "cell_type": "code",
            "execution_count": null,
            "metadata": {},
            "outputs": [],
            "source": [
                "# Create variable called 'var_names' that stores the variable names in a list with state variables ordered first\n",
                "\n",
                "\n",
                "# Create variable called 'shock_names' that stores an exogenous shock name for each state variable.\n",
                "\n",
                "\n",
                "# Define a function that evaluates the equilibrium conditions of the model solved for zero. PROVIDED\n",
                "def equilibrium_equations(variables_forward,variables_current,parameters):\n",
                "\n",
                "    # Parameters. PROVIDED\n",
                "    p = parameters\n",
                "\n",
                "    # Current variables. PROVIDED\n",
                "    cur = variables_current\n",
                "\n",
                "    # Forward variables. PROVIDED\n",
                "    fwd = variables_forward\n",
                "\n",
                "    # IS equation\n",
                "\n",
                "\n",
                "    # Fisher_equation\n",
                "\n",
                "\n",
                "    # Monetary policy\n",
                "\n",
                "\n",
                "    # Phillips curve\n",
                "\n",
                "\n",
                "    # Demand process\n",
                "\n",
                "\n",
                "    # Monetary policy process\n",
                "\n",
                "\n",
                "    # Inflation process\n",
                "\n",
                "\n",
                "",
                "    # Stack equilibrium conditions into a numpy array\n",
                "\n",
                "\n",
                "",
                "",
                "",
                "",
                "",
                "",
                "",
                "",
                "# Initialize the model into a variable named 'nk_model'\n",
                "\n",
                "\n",
                "",
                "",
                ""
            ]
        },
        {
            "cell_type": "code",
            "execution_count": null,
            "metadata": {},
            "outputs": [],
            "source": [
                "# Compute the steady state numerically using .compute_ss() method of nk_model\n",
                "\n",
                "\n",
                "",
                "# Print the computed steady state\n"
            ]
        },
        {
            "cell_type": "code",
            "execution_count": null,
            "metadata": {},
            "outputs": [],
            "source": [
                "# Find the log-linear approximation around the non-stochastic steady state and solve using .approximate_and_solve() method of nk_model\n",
                "# set argumement 'log_linear' to False because the model is already log-linear.\n",
                "\n",
                "\n",
                ""
            ]
        },
        {
            "cell_type": "markdown",
            "metadata": {},
            "source": [
                "### Impulse Responses\n",
                "\n",
                "Compute a 21 period impulse response of the model's variables to a 0.01/4 unit shock to the exogenous component of  monetary policy ($v_t$) in period 5."
            ]
        },
        {
            "cell_type": "code",
            "execution_count": null,
            "metadata": {},
            "outputs": [],
            "source": [
                "# Compute impulse responses\n",
                "\n",
                "\n",
                "# Print the first 10 rows of the computed impulse responses to the monetary policy shock\n"
            ]
        },
        {
            "cell_type": "markdown",
            "metadata": {},
            "source": [
                "Plot the computed impulses responses of the nominal interest rate, the real interest rate, output, and inflation. Express inflation and interest rates in *annualized* (e.g., multiplied by 4) terms."
            ]
        },
        {
            "cell_type": "code",
            "execution_count": null,
            "metadata": {},
            "outputs": [],
            "source": [
                "# Create figure. PROVIDED\n",
                "fig = plt.figure(figsize=(12,8))\n",
                "\n",
                "# Create upper-left axis. PROVIDED\n",
                "ax1 = fig.add_subplot(2,2,1)\n",
                "# Create upper-right axis. PROVIDED\n",
                "ax2 = fig.add_subplot(2,2,2)\n",
                "# Create lower-left axis. PROVIDED\n",
                "ax3 = fig.add_subplot(2,2,3)\n",
                "# Create lower-right axis. PROVIDED\n",
                "ax4 = fig.add_subplot(2,2,4)\n",
                "\n",
                "# Set axis 1 ylabel\n",
                "\n",
                "# Set axis 2 ylabel\n",
                "\n",
                "# Set axis 3 ylabel\n",
                "\n",
                "# Set axis 4 ylabel\n",
                "\n",
                "\n",
                "# Set axis 1 limits \n",
                "\n",
                "# Set axis 2 limits\n",
                "\n",
                "# Set axis 3 limits\n",
                "\n",
                "# Set axis 4 limits\n",
                "\n",
                "\n",
                "# Plot the nominal interest rate, real interest rate, output, and inflation\n",
                "\n",
                "\n",
                "",
                ""
            ]
        }
    ],
    "metadata": {
        "anaconda-cloud": {},
        "kernelspec": {
            "display_name": "Python 3",
            "language": "python",
            "name": "python3"
        },
        "language_info": {
            "codemirror_mode": {
                "name": "ipython",
                "version": 3
            },
            "file_extension": ".py",
            "mimetype": "text/x-python",
            "name": "python",
            "nbconvert_exporter": "python",
            "pygments_lexer": "ipython3",
            "version": "3.7.4"
        }
    },
    "nbformat": 4,
    "nbformat_minor": 1
}