{
 "cells": [
  {
   "cell_type": "markdown",
   "metadata": {},
   "source": [
    "# Discussion: Week 8\n",
    "\n",
    "Questions based on discussion of Lawrence Summers' article \"Some  Skeptical  Observations  on Real  Business  Cycle Theory\" in the Fall 1986 issue of the Minneapolis Fed's *Quarterly Review* (Link to article: [https://www.minneapolisfed.org/research/qr/qr1043.pdf](https://www.minneapolisfed.org/research/qr/qr1043.pdf)).\n",
    "\n",
    "\n",
    "**Questions**\n",
    "\n",
    "1. What, according to Prescott's article, is the fundamental driving force behind the business cycle? \n",
    "2. According Summers' introduction, why is RBC theory counter to what most macroeconomists at the time of Summers' writing knew about the business cycle?\n",
    "3. In your own words, what are the four major objections that Summers raises to the RBC research program?\n",
    "4. What does Summers mean by *exchange failures*?"
   ]
  },
  {
   "cell_type": "markdown",
   "metadata": {},
   "source": [
    "**Answers**\n",
    "\n",
    "1. Exogenous shocks to technology. <!-- answer -->\n",
    "2. Last sentence of the first paragraph in Summers' article: \"They assert that monetary policies have no effect on real activity, that fiscal policies influence the economy only through their incentive effects, and that economic fluctuations are caused entirely by supply rather than demand shocks.\" <!-- answer -->\n",
    "3. The choice of parameters used to perform simulations is questionable. There is no evidence that there are large, fundamental shocks to technology. Prescott makes no attempt to explain the movement of prices with the RBC model. The RBC model is based on a model of perfect competition and therefore cannot account for the breakdown of important trading relationships and heightened inefficincy (e.g., unemployment) during recessions <!-- answer -->\n",
    "4. By *exchange failures*, Summers means the inability of markets to adaquately match supply and demand. Unemployment is an example of an exchange failure. People are willing to work at the prevailing wage, but firms will not hire them. <!-- answer -->"
   ]
  }
 ],
 "metadata": {
  "kernelspec": {
   "display_name": "Python 3",
   "language": "python",
   "name": "python3"
  },
  "language_info": {
   "codemirror_mode": {
    "name": "ipython",
    "version": 3
   },
   "file_extension": ".py",
   "mimetype": "text/x-python",
   "name": "python",
   "nbconvert_exporter": "python",
   "pygments_lexer": "ipython3",
   "version": "3.7.4"
  }
 },
 "nbformat": 4,
 "nbformat_minor": 2
}
